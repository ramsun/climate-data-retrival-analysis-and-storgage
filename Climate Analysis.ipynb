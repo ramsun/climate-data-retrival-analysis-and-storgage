{
 "cells": [
  {
   "cell_type": "code",
   "execution_count": 1,
   "metadata": {},
   "outputs": [],
   "source": [
    "# Data visualization dependencies\n",
    "%matplotlib inline\n",
    "from matplotlib import style\n",
    "style.use('fivethirtyeight')\n",
    "import matplotlib.pyplot as plt\n",
    "\n",
    "# Data analytics libraries\n",
    "import numpy as np\n",
    "import pandas as pd\n",
    "\n",
    "# other dependencies\n",
    "import datetime as dt\n",
    "from dateutil.relativedelta import relativedelta"
   ]
  },
  {
   "cell_type": "markdown",
   "metadata": {},
   "source": [
    "# Reflect Tables into SQLAlchemy ORM"
   ]
  },
  {
   "cell_type": "code",
   "execution_count": 2,
   "metadata": {},
   "outputs": [],
   "source": [
    "# Python SQL toolkit and Object Relational Mapper\n",
    "import sqlalchemy\n",
    "from sqlalchemy.ext.automap import automap_base\n",
    "from sqlalchemy.orm import Session\n",
    "from sqlalchemy import create_engine, func\n",
    "from sqlalchemy.sql import select\n",
    "from sqlalchemy import and_\n",
    "from sqlalchemy import between"
   ]
  },
  {
   "cell_type": "code",
   "execution_count": 3,
   "metadata": {},
   "outputs": [],
   "source": [
    "engine = create_engine(\"sqlite:///hawaii.sqlite\")"
   ]
  },
  {
   "cell_type": "code",
   "execution_count": 4,
   "metadata": {},
   "outputs": [],
   "source": [
    "# reflect an existing database into a new model\n",
    "Base = automap_base()\n",
    "# reflect the tables\n",
    "Base.prepare(engine, reflect=True)"
   ]
  },
  {
   "cell_type": "code",
   "execution_count": 5,
   "metadata": {},
   "outputs": [
    {
     "data": {
      "text/plain": [
       "['measurement', 'station']"
      ]
     },
     "execution_count": 5,
     "metadata": {},
     "output_type": "execute_result"
    }
   ],
   "source": [
    "# We can view all of the classes that automap found\n",
    "Base.classes.keys()"
   ]
  },
  {
   "cell_type": "code",
   "execution_count": 6,
   "metadata": {},
   "outputs": [],
   "source": [
    "# Save references to each table\n",
    "Measurement = Base.classes.measurement\n",
    "Station = Base.classes.station"
   ]
  },
  {
   "cell_type": "code",
   "execution_count": 7,
   "metadata": {},
   "outputs": [],
   "source": [
    "# Create our session (link) from Python to the DB\n",
    "session = Session(engine)"
   ]
  },
  {
   "cell_type": "markdown",
   "metadata": {},
   "source": [
    "# Exploratory Climate Analysis"
   ]
  },
  {
   "cell_type": "code",
   "execution_count": 8,
   "metadata": {},
   "outputs": [
    {
     "data": {
      "text/plain": [
       "([], <a list of 0 Text xticklabel objects>)"
      ]
     },
     "execution_count": 8,
     "metadata": {},
     "output_type": "execute_result"
    },
    {
     "data": {
      "image/png": "[encoded data removed]",
      "text/plain": [
       "<Figure size 432x288 with 1 Axes>"
      ]
     },
     "metadata": {
      "needs_background": "light"
     },
     "output_type": "display_data"
    }
   ],
   "source": [
    "# Design a query to retrieve the last 12 months of precipitation data and plot the results\n",
    "\n",
    "# Calculate the date 1 year ago from the last data point in the database\n",
    "# query for the latest date\n",
    "latest_date_max = session.query(func.max(Measurement.date)).scalar()\n",
    "# convert the latest date to a datetime object\n",
    "latest_date = dt.datetime.strptime(latest_date_max, '%Y-%m-%d').date()\n",
    "# use timedelta to find the date 1 year ago\n",
    "year_ago = latest_date - dt.timedelta(days=365)\n",
    "\n",
    "# Create SQL query that will store the dates between year_ago and latest_date \n",
    "precipitation_query = select([Measurement.date, Measurement.prcp]).\\\n",
    "where(between(Measurement.date, year_ago,latest_date))\n",
    "\n",
    "# Store the query values into a data frame and set the index as the date\n",
    "conn = engine.connect()\n",
    "precipitation_df = pd.read_sql(precipitation_query, conn)\n",
    "precipitation_df = precipitation_df.set_index('date')\n",
    "\n",
    "# plot the results\n",
    "labels = precipitation_df.index\n",
    "precip_data = precipitation_df['prcp']\n",
    "plt.bar(labels, precip_data)\n",
    "plt.title(f\"Precipitation From {year_ago} through {latest_date}\")\n",
    "plt.xlabel(\"Dates\")\n",
    "plt.ylabel(\"Precipitation\")\n",
    "plt.xticks([], [])"
   ]
  },
  {
   "cell_type": "code",
   "execution_count": 9,
   "metadata": {},
   "outputs": [
    {
     "data": {
      "text/html": [
       "<div>\n",
       "<style scoped>\n",
       "    .dataframe tbody tr th:only-of-type {\n",
       "        vertical-align: middle;\n",
       "    }\n",
       "\n",
       "    .dataframe tbody tr th {\n",
       "        vertical-align: top;\n",
       "    }\n",
       "\n",
       "    .dataframe thead th {\n",
       "        text-align: right;\n",
       "    }\n",
       "</style>\n",
       "<table border=\"1\" class=\"dataframe\">\n",
       "  <thead>\n",
       "    <tr style=\"text-align: right;\">\n",
       "      <th></th>\n",
       "      <th>prcp</th>\n",
       "    </tr>\n",
       "  </thead>\n",
       "  <tbody>\n",
       "    <tr>\n",
       "      <th>count</th>\n",
       "      <td>2021.000000</td>\n",
       "    </tr>\n",
       "    <tr>\n",
       "      <th>mean</th>\n",
       "      <td>0.177279</td>\n",
       "    </tr>\n",
       "    <tr>\n",
       "      <th>std</th>\n",
       "      <td>0.461190</td>\n",
       "    </tr>\n",
       "    <tr>\n",
       "      <th>min</th>\n",
       "      <td>0.000000</td>\n",
       "    </tr>\n",
       "    <tr>\n",
       "      <th>25%</th>\n",
       "      <td>0.000000</td>\n",
       "    </tr>\n",
       "    <tr>\n",
       "      <th>50%</th>\n",
       "      <td>0.020000</td>\n",
       "    </tr>\n",
       "    <tr>\n",
       "      <th>75%</th>\n",
       "      <td>0.130000</td>\n",
       "    </tr>\n",
       "    <tr>\n",
       "      <th>max</th>\n",
       "      <td>6.700000</td>\n",
       "    </tr>\n",
       "  </tbody>\n",
       "</table>\n",
       "</div>"
      ],
      "text/plain": [
       "              prcp\n",
       "count  2021.000000\n",
       "mean      0.177279\n",
       "std       0.461190\n",
       "min       0.000000\n",
       "25%       0.000000\n",
       "50%       0.020000\n",
       "75%       0.130000\n",
       "max       6.700000"
      ]
     },
     "execution_count": 9,
     "metadata": {},
     "output_type": "execute_result"
    }
   ],
   "source": [
    "# Use Pandas to calcualte the summary statistics for the precipitation data\n",
    "precipitation_summary_df = precipitation_df.describe()\n",
    "\n",
    "# Output to JN window\n",
    "precipitation_summary_df"
   ]
  },
  {
   "cell_type": "code",
   "execution_count": 10,
   "metadata": {},
   "outputs": [
    {
     "name": "stdout",
     "output_type": "stream",
     "text": [
      "There are 9 stations in the dataset.\n"
     ]
    }
   ],
   "source": [
    "# Count the number of unique stations\n",
    "number_of_stations = session.query(Measurement.station).group_by(Measurement.station).count()\n",
    "\n",
    "print(f\"There are {number_of_stations} stations in the dataset.\")"
   ]
  },
  {
   "cell_type": "code",
   "execution_count": 11,
   "metadata": {},
   "outputs": [
    {
     "data": {
      "text/html": [
       "<div>\n",
       "<style scoped>\n",
       "    .dataframe tbody tr th:only-of-type {\n",
       "        vertical-align: middle;\n",
       "    }\n",
       "\n",
       "    .dataframe tbody tr th {\n",
       "        vertical-align: top;\n",
       "    }\n",
       "\n",
       "    .dataframe thead th {\n",
       "        text-align: right;\n",
       "    }\n",
       "</style>\n",
       "<table border=\"1\" class=\"dataframe\">\n",
       "  <thead>\n",
       "    <tr style=\"text-align: right;\">\n",
       "      <th></th>\n",
       "      <th>station</th>\n",
       "      <th>count</th>\n",
       "    </tr>\n",
       "  </thead>\n",
       "  <tbody>\n",
       "    <tr>\n",
       "      <th>0</th>\n",
       "      <td>USC00519281</td>\n",
       "      <td>2772</td>\n",
       "    </tr>\n",
       "    <tr>\n",
       "      <th>1</th>\n",
       "      <td>USC00519397</td>\n",
       "      <td>2724</td>\n",
       "    </tr>\n",
       "    <tr>\n",
       "      <th>2</th>\n",
       "      <td>USC00513117</td>\n",
       "      <td>2709</td>\n",
       "    </tr>\n",
       "    <tr>\n",
       "      <th>3</th>\n",
       "      <td>USC00519523</td>\n",
       "      <td>2669</td>\n",
       "    </tr>\n",
       "    <tr>\n",
       "      <th>4</th>\n",
       "      <td>USC00516128</td>\n",
       "      <td>2612</td>\n",
       "    </tr>\n",
       "    <tr>\n",
       "      <th>5</th>\n",
       "      <td>USC00514830</td>\n",
       "      <td>2202</td>\n",
       "    </tr>\n",
       "    <tr>\n",
       "      <th>6</th>\n",
       "      <td>USC00511918</td>\n",
       "      <td>1979</td>\n",
       "    </tr>\n",
       "    <tr>\n",
       "      <th>7</th>\n",
       "      <td>USC00517948</td>\n",
       "      <td>1372</td>\n",
       "    </tr>\n",
       "    <tr>\n",
       "      <th>8</th>\n",
       "      <td>USC00518838</td>\n",
       "      <td>511</td>\n",
       "    </tr>\n",
       "  </tbody>\n",
       "</table>\n",
       "</div>"
      ],
      "text/plain": [
       "       station  count\n",
       "0  USC00519281   2772\n",
       "1  USC00519397   2724\n",
       "2  USC00513117   2709\n",
       "3  USC00519523   2669\n",
       "4  USC00516128   2612\n",
       "5  USC00514830   2202\n",
       "6  USC00511918   1979\n",
       "7  USC00517948   1372\n",
       "8  USC00518838    511"
      ]
     },
     "execution_count": 11,
     "metadata": {},
     "output_type": "execute_result"
    }
   ],
   "source": [
    "# What are the most active stations? (i.e. what stations have the most rows)?\n",
    "# List the stations and the counts in descending order.\n",
    "\n",
    "# Design a query to show how many stations are available in this dataset?\n",
    "station_query = select([Measurement.station, func.count(Measurement.station)])\\\n",
    ".group_by(Measurement.station).order_by(func.count(Measurement.station).desc())\n",
    "\n",
    "# Store the query in a dataframe and output to JN\n",
    "station_count_df = pd.read_sql(station_query, conn)\n",
    "station_count_df = station_count_df.rename(columns = {\"count_1\" : \"count\"})\n",
    "\n",
    "# output to JN\n",
    "station_count_df"
   ]
  },
  {
   "cell_type": "code",
   "execution_count": 12,
   "metadata": {},
   "outputs": [
    {
     "name": "stdout",
     "output_type": "stream",
     "text": [
      "MAX, MIN, and AVG temperature for USC00519397 station:\n",
      "MAX: 87.0\n",
      "MIN: 56.0\n",
      "AVG: 74.6\n"
     ]
    }
   ],
   "source": [
    "# Using the station id from the previous query, calculate the lowest temperature recorded, \n",
    "# highest temperature recorded, and average temperature most active station?\n",
    "\n",
    "# get the station tag of the station with the most amount of records\n",
    "station_tag = station_count_df.iloc[1,0]\n",
    "\n",
    "# Query for all the temperature data\n",
    "station_query = select([Measurement.tobs]).where(Measurement.station == station_tag)\n",
    "\n",
    "# Read the query into a dataframe and \n",
    "max_station_temp_df = pd.read_sql(station_query,conn)\n",
    "max_temp = max(max_station_temp_df[\"tobs\"])\n",
    "min_temp = min(max_station_temp_df[\"tobs\"])\n",
    "avg_temp = round(max_station_temp_df[\"tobs\"].mean(), 1)\n",
    "\n",
    "# print stats to JN\n",
    "print(f\"MAX, MIN, and AVG temperature for {station_tag} station:\")\n",
    "print(f\"MAX: {max_temp}\")\n",
    "print(f\"MIN: {min_temp}\")\n",
    "print(f\"AVG: {avg_temp}\")"
   ]
  },
  {
   "cell_type": "code",
   "execution_count": 13,
   "metadata": {},
   "outputs": [
    {
     "data": {
      "text/plain": [
       "Text(0.5, 0, 'Temperature [F]')"
      ]
     },
     "execution_count": 13,
     "metadata": {},
     "output_type": "execute_result"
    },
    {
     "data": {
      "image/png": "[encoded data removed]",
      "text/plain": [
       "<Figure size 432x288 with 1 Axes>"
      ]
     },
     "metadata": {
      "needs_background": "light"
     },
     "output_type": "display_data"
    }
   ],
   "source": [
    "# Choose the station with the highest number of temperature observations.\n",
    "# Query the last 12 months of temperature observation data for this station and plot the results as a histogram\n",
    "\n",
    "# create a query \n",
    "temperature_query = select([Measurement.date, Measurement.tobs]).\\\n",
    "where(and_(Measurement.station == station_tag, between(Measurement.date, year_ago,latest_date)))\n",
    "\n",
    "# Store the query in a dataframe\n",
    "top_station_temps_df = pd.read_sql(temperature_query, conn)\n",
    "\n",
    "# plot the results on a histogram\n",
    "top_station_temps_df.hist(column='tobs', bins = 12)\n",
    "plt.title(f\"Temperature Frequencies for {station_tag} between {year_ago} and {latest_date}\")\n",
    "plt.ylabel(\"Frequency\")\n",
    "plt.xlabel(\"Temperature [F]\")"
   ]
  },
  {
   "cell_type": "code",
   "execution_count": 14,
   "metadata": {},
   "outputs": [
    {
     "name": "stdout",
     "output_type": "stream",
     "text": [
      "[(62.0, 69.57142857142857, 74.0)]\n"
     ]
    }
   ],
   "source": [
    "# This function called `calc_temps` will accept start date and end date in the format '%Y-%m-%d' \n",
    "# and return the minimum, average, and maximum temperatures for that range of dates\n",
    "def calc_temps(start_date, end_date):\n",
    "    \"\"\"TMIN, TAVG, and TMAX for a list of dates.\n",
    "    \n",
    "    Args:\n",
    "        start_date (string): A date string in the format %Y-%m-%d\n",
    "        end_date (string): A date string in the format %Y-%m-%d\n",
    "        \n",
    "    Returns:\n",
    "        TMIN, TAVE, and TMAX\n",
    "    \"\"\"\n",
    "    \n",
    "    return session.query(func.min(Measurement.tobs), func.avg(Measurement.tobs), func.max(Measurement.tobs)).\\\n",
    "        filter(Measurement.date >= start_date).filter(Measurement.date <= end_date).all()\n",
    "\n",
    "# function usage example\n",
    "print(calc_temps('2012-02-28', '2012-03-05'))"
   ]
  },
  {
   "cell_type": "code",
   "execution_count": 15,
   "metadata": {},
   "outputs": [
    {
     "name": "stdout",
     "output_type": "stream",
     "text": [
      "MAX, MIN, and AVG temperature for USC00519397 station between 2015-2016:\n",
      "MIN: 58.0\n",
      "AVG: 74.59058295964125\n",
      "MAX: 87.0\n"
     ]
    }
   ],
   "source": [
    "# Use your previous function `calc_temps` to calculate the tmin, tavg, and tmax \n",
    "# for your trip using the previous year's data for those same dates.\n",
    "\n",
    "# Store the summary data in the previous_year_stats list\n",
    "previous_year_stats = calc_temps(year_ago, latest_date)\n",
    "\n",
    "# Print to JN Output window\n",
    "print(f\"MAX, MIN, and AVG temperature for {station_tag} station between 2015-2016:\")\n",
    "print(f\"MIN: {previous_year_stats[0][0]}\")\n",
    "print(f\"AVG: {previous_year_stats[0][1]}\")\n",
    "print(f\"MAX: {previous_year_stats[0][2]}\")"
   ]
  },
  {
   "cell_type": "code",
   "execution_count": 16,
   "metadata": {},
   "outputs": [
    {
     "data": {
      "text/plain": [
       "Text(0.5, 0, 'Date Ranges')"
      ]
     },
     "execution_count": 16,
     "metadata": {},
     "output_type": "execute_result"
    },
    {
     "data": {
      "image/png": "[encoded data removed]",
      "text/plain": [
       "<Figure size 432x288 with 1 Axes>"
      ]
     },
     "metadata": {
      "needs_background": "light"
     },
     "output_type": "display_data"
    }
   ],
   "source": [
    "# Plot the results from your previous query as a bar chart. \n",
    "# Use \"Trip Avg Temp\" as your Title\n",
    "# Use the average temperature for the y value\n",
    "# Use the peak-to-peak (tmax-tmin) value as the y error bar (yerr)\n",
    "error = previous_year_stats[0][2] - previous_year_stats[0][0]\n",
    "y_val = previous_year_stats[0][1]\n",
    "labels = \"8/24/2015 - 8/23/2016\"\n",
    "plt.bar(labels,y_val, yerr=error, align='center', alpha=0.5, color = \"orange\",ecolor='black', capsize=10)\n",
    "plt.title(\"Trip Avg Temp\")\n",
    "plt.ylabel(\"Temperature [F]\")\n",
    "plt.xlabel(\"Date Ranges\")"
   ]
  },
  {
   "cell_type": "code",
   "execution_count": 17,
   "metadata": {
    "scrolled": true
   },
   "outputs": [
    {
     "data": {
      "text/html": [
       "<div>\n",
       "<style scoped>\n",
       "    .dataframe tbody tr th:only-of-type {\n",
       "        vertical-align: middle;\n",
       "    }\n",
       "\n",
       "    .dataframe tbody tr th {\n",
       "        vertical-align: top;\n",
       "    }\n",
       "\n",
       "    .dataframe thead th {\n",
       "        text-align: right;\n",
       "    }\n",
       "</style>\n",
       "<table border=\"1\" class=\"dataframe\">\n",
       "  <thead>\n",
       "    <tr style=\"text-align: right;\">\n",
       "      <th></th>\n",
       "      <th></th>\n",
       "      <th></th>\n",
       "      <th></th>\n",
       "      <th>Total Precipitation</th>\n",
       "    </tr>\n",
       "    <tr>\n",
       "      <th>station</th>\n",
       "      <th>latitude</th>\n",
       "      <th>longitude</th>\n",
       "      <th>elevation</th>\n",
       "      <th></th>\n",
       "    </tr>\n",
       "  </thead>\n",
       "  <tbody>\n",
       "    <tr>\n",
       "      <th>USC00513117</th>\n",
       "      <th>21.42340</th>\n",
       "      <th>-157.80150</th>\n",
       "      <th>14.6</th>\n",
       "      <td>48.51</td>\n",
       "    </tr>\n",
       "    <tr>\n",
       "      <th>USC00514830</th>\n",
       "      <th>21.52130</th>\n",
       "      <th>-157.83740</th>\n",
       "      <th>7.0</th>\n",
       "      <td>33.24</td>\n",
       "    </tr>\n",
       "    <tr>\n",
       "      <th>USC00516128</th>\n",
       "      <th>21.33310</th>\n",
       "      <th>-157.80250</th>\n",
       "      <th>152.4</th>\n",
       "      <td>147.81</td>\n",
       "    </tr>\n",
       "    <tr>\n",
       "      <th>USC00517948</th>\n",
       "      <th>21.39340</th>\n",
       "      <th>-157.97510</th>\n",
       "      <th>11.9</th>\n",
       "      <td>4.59</td>\n",
       "    </tr>\n",
       "    <tr>\n",
       "      <th>USC00519281</th>\n",
       "      <th>21.45167</th>\n",
       "      <th>-157.84889</th>\n",
       "      <th>32.9</th>\n",
       "      <td>70.03</td>\n",
       "    </tr>\n",
       "    <tr>\n",
       "      <th>USC00519397</th>\n",
       "      <th>21.27160</th>\n",
       "      <th>-157.81680</th>\n",
       "      <th>3.0</th>\n",
       "      <td>16.09</td>\n",
       "    </tr>\n",
       "    <tr>\n",
       "      <th>USC00519523</th>\n",
       "      <th>21.33556</th>\n",
       "      <th>-157.71139</th>\n",
       "      <th>19.5</th>\n",
       "      <td>38.01</td>\n",
       "    </tr>\n",
       "  </tbody>\n",
       "</table>\n",
       "</div>"
      ],
      "text/plain": [
       "                                           Total Precipitation\n",
       "station     latitude longitude  elevation                     \n",
       "USC00513117 21.42340 -157.80150 14.6                     48.51\n",
       "USC00514830 21.52130 -157.83740 7.0                      33.24\n",
       "USC00516128 21.33310 -157.80250 152.4                   147.81\n",
       "USC00517948 21.39340 -157.97510 11.9                      4.59\n",
       "USC00519281 21.45167 -157.84889 32.9                     70.03\n",
       "USC00519397 21.27160 -157.81680 3.0                      16.09\n",
       "USC00519523 21.33556 -157.71139 19.5                     38.01"
      ]
     },
     "execution_count": 17,
     "metadata": {},
     "output_type": "execute_result"
    }
   ],
   "source": [
    "# Calculate the rainfall per weather station for your trip dates using the previous year's matching dates.\n",
    "# Sort this in descending order by precipitation amount and list the station, name, latitude, longitude, and elevation\n",
    "\n",
    "# Make queries to references of the tables Measurement and Station\n",
    "# and store in a variable\n",
    "prcp_station_query = select([Measurement.station, Measurement.date, Measurement.prcp]).\\\n",
    "                     where(between(Measurement.date, year_ago,latest_date))\n",
    "station_info_query = select([Station.station, Station.latitude, Station.longitude, Station.elevation])\n",
    "\n",
    "# store queries in dataframes\n",
    "prcp_station_df = pd.read_sql(prcp_station_query, conn)\n",
    "station_info_df = pd.read_sql(station_info_query, conn)\n",
    "\n",
    "# inner join the tables so that each row includes latitude, longitude, and elevation data \n",
    "# as well as precipitation data for each station\n",
    "temp_and_station_info_df = pd.merge(prcp_station_df,station_info_df, how = 'inner')\n",
    "\n",
    "# create a new dataframe that groups the data by station and station geo coordinates \n",
    "# and shows the sum of the precipitation for each station\n",
    "# sort in descending order\n",
    "station_precipitation_df = temp_and_station_info_df.groupby([\"station\", \"latitude\", \"longitude\", \"elevation\"])\\\n",
    "                           .prcp.agg([\"sum\"])\n",
    "station_precipitation_df.sort_values(by=['sum'], ascending=False)\n",
    "\n",
    "# clean column header from aggregate function\n",
    "station_precipitation_df = station_precipitation_df.rename(columns = {\"sum\":\"Total Precipitation\"})\n",
    "\n",
    "# output to notebook\n",
    "station_precipitation_df"
   ]
  },
  {
   "cell_type": "code",
   "execution_count": 18,
   "metadata": {},
   "outputs": [
    {
     "data": {
      "text/plain": [
       "[(62.0, 69.15384615384616, 77.0)]"
      ]
     },
     "execution_count": 18,
     "metadata": {},
     "output_type": "execute_result"
    }
   ],
   "source": [
    "# Create a query that will calculate the daily normals \n",
    "# (i.e. the averages for tmin, tmax, and tavg for all historic data matching a specific month and day)\n",
    "\n",
    "def daily_normals(date):\n",
    "    \"\"\"Daily Normals.\n",
    "    \n",
    "    Args:\n",
    "        date (str): A date string in the format '%m-%d'\n",
    "        \n",
    "    Returns:\n",
    "        A list of tuples containing the daily normals, tmin, tavg, and tmax\n",
    "    \n",
    "    \"\"\"\n",
    "    \n",
    "    sel = [func.min(Measurement.tobs), func.avg(Measurement.tobs), func.max(Measurement.tobs)]\n",
    "    return session.query(*sel).filter(func.strftime(\"%m-%d\", Measurement.date) == date).all()\n",
    "    \n",
    "daily_normals(\"01-01\")"
   ]
  },
  {
   "cell_type": "code",
   "execution_count": 19,
   "metadata": {},
   "outputs": [
    {
     "data": {
      "text/plain": [
       "[[(60.0, 69.0, 77.0)],\n",
       " [(58.0, 70.38983050847457, 77.0)],\n",
       " [(59.0, 69.6842105263158, 80.0)],\n",
       " [(61.0, 68.14035087719299, 76.0)],\n",
       " [(58.0, 67.79661016949153, 77.0)],\n",
       " [(59.0, 68.85964912280701, 77.0)],\n",
       " [(56.0, 68.14035087719299, 78.0)]]"
      ]
     },
     "execution_count": 19,
     "metadata": {},
     "output_type": "execute_result"
    }
   ],
   "source": [
    "# calculate the daily normals for your trip\n",
    "# push each tuple of calculations into a list called `normals`\n",
    "\n",
    "# Set the start and end date of the trip\n",
    "date1 = dt.datetime(2019, 2, 1)\n",
    "date2 = dt.datetime(2019, 2, 7)\n",
    "\n",
    "# Use the start and end date to create a range of dates\n",
    "date_dt_list = [date2 - dt.timedelta(days=x) for x in range(0, 7)]\n",
    "\n",
    "# Stip off the year and save a list of %m-%d strings\n",
    "date_str_list = []\n",
    "for adate in date_dt_list:\n",
    "    date_str_list.append(adate.strftime(\"%m-%d\"))\n",
    "\n",
    "# Loop through the list of %m-%d strings and calculate the normals for each date\n",
    "normals = []\n",
    "for aval in date_str_list:\n",
    "    normals.append(daily_normals(aval))\n",
    "\n",
    "normals"
   ]
  },
  {
   "cell_type": "code",
   "execution_count": 20,
   "metadata": {},
   "outputs": [
    {
     "data": {
      "text/html": [
       "<div>\n",
       "<style scoped>\n",
       "    .dataframe tbody tr th:only-of-type {\n",
       "        vertical-align: middle;\n",
       "    }\n",
       "\n",
       "    .dataframe tbody tr th {\n",
       "        vertical-align: top;\n",
       "    }\n",
       "\n",
       "    .dataframe thead th {\n",
       "        text-align: right;\n",
       "    }\n",
       "</style>\n",
       "<table border=\"1\" class=\"dataframe\">\n",
       "  <thead>\n",
       "    <tr style=\"text-align: right;\">\n",
       "      <th></th>\n",
       "      <th>tmin</th>\n",
       "      <th>tavg</th>\n",
       "      <th>tmax</th>\n",
       "    </tr>\n",
       "    <tr>\n",
       "      <th>Trip Dates</th>\n",
       "      <th></th>\n",
       "      <th></th>\n",
       "      <th></th>\n",
       "    </tr>\n",
       "  </thead>\n",
       "  <tbody>\n",
       "    <tr>\n",
       "      <th>2019-02-01</th>\n",
       "      <td>56.0</td>\n",
       "      <td>68.140351</td>\n",
       "      <td>78.0</td>\n",
       "    </tr>\n",
       "    <tr>\n",
       "      <th>2019-02-02</th>\n",
       "      <td>59.0</td>\n",
       "      <td>68.859649</td>\n",
       "      <td>77.0</td>\n",
       "    </tr>\n",
       "    <tr>\n",
       "      <th>2019-02-03</th>\n",
       "      <td>58.0</td>\n",
       "      <td>67.796610</td>\n",
       "      <td>77.0</td>\n",
       "    </tr>\n",
       "    <tr>\n",
       "      <th>2019-02-04</th>\n",
       "      <td>61.0</td>\n",
       "      <td>68.140351</td>\n",
       "      <td>76.0</td>\n",
       "    </tr>\n",
       "    <tr>\n",
       "      <th>2019-02-05</th>\n",
       "      <td>59.0</td>\n",
       "      <td>69.684211</td>\n",
       "      <td>80.0</td>\n",
       "    </tr>\n",
       "    <tr>\n",
       "      <th>2019-02-06</th>\n",
       "      <td>58.0</td>\n",
       "      <td>70.389831</td>\n",
       "      <td>77.0</td>\n",
       "    </tr>\n",
       "    <tr>\n",
       "      <th>2019-02-07</th>\n",
       "      <td>60.0</td>\n",
       "      <td>69.000000</td>\n",
       "      <td>77.0</td>\n",
       "    </tr>\n",
       "  </tbody>\n",
       "</table>\n",
       "</div>"
      ],
      "text/plain": [
       "            tmin       tavg  tmax\n",
       "Trip Dates                       \n",
       "2019-02-01  56.0  68.140351  78.0\n",
       "2019-02-02  59.0  68.859649  77.0\n",
       "2019-02-03  58.0  67.796610  77.0\n",
       "2019-02-04  61.0  68.140351  76.0\n",
       "2019-02-05  59.0  69.684211  80.0\n",
       "2019-02-06  58.0  70.389831  77.0\n",
       "2019-02-07  60.0  69.000000  77.0"
      ]
     },
     "execution_count": 20,
     "metadata": {},
     "output_type": "execute_result"
    }
   ],
   "source": [
    "# Load the previous query results into a Pandas DataFrame and add the `trip_dates` range as the `date` index\n",
    "\n",
    "# create a dictionary out of the date strings and daily normals\n",
    "date_normals_dict = dict(zip(date_str_list,normals))\n",
    "\n",
    "# create a dataframe from the dictionary using the keys as rows\n",
    "trip_dates_and_normals_df = pd.DataFrame.from_dict(date_normals_dict, orient = 'index')\n",
    "\n",
    "# clean the df headers\n",
    "trip_dates_and_normals_df.columns = ['Daily Normals']\n",
    "trip_dates_and_normals_df.index.names = [\"Trip Dates\"]\n",
    "\n",
    "# break up the tuples into 3 seperate columns\n",
    "trip_dates_and_normals_df = pd.DataFrame(trip_dates_and_normals_df['Daily Normals'].tolist(), columns=['tmin', 'tavg','tmax'])\n",
    "trip_dates_and_normals_df[\"Trip Dates\"] = date_dt_list\n",
    "trip_dates_and_normals_df = trip_dates_and_normals_df.sort_values(by=['Trip Dates'])\n",
    "trip_dates_and_normals_df = trip_dates_and_normals_df.set_index('Trip Dates')\n",
    "\n",
    "# output to notebook\n",
    "trip_dates_and_normals_df"
   ]
  },
  {
   "cell_type": "code",
   "execution_count": 21,
   "metadata": {},
   "outputs": [
    {
     "data": {
      "text/plain": [
       "Text(0, 0.5, 'Temperature [F]')"
      ]
     },
     "execution_count": 21,
     "metadata": {},
     "output_type": "execute_result"
    },
    {
     "data": {
      "image/png": "[encoded data removed]",
      "text/plain": [
       "<Figure size 432x288 with 1 Axes>"
      ]
     },
     "metadata": {
      "needs_background": "light"
     },
     "output_type": "display_data"
    }
   ],
   "source": [
    "# Plot the daily normals as an area plot with `stacked=False`\n",
    "trip_dates_and_normals_df.plot.area(stacked = False)\n",
    "plt.title(\"Temperature Normals During Trip Dates\")\n",
    "plt.ylabel(\"Temperature [F]\")"
   ]
  }
 ],
 "metadata": {
  "kernel_info": {
   "name": "python3"
  },
  "kernelspec": {
   "display_name": "Python 3",
   "language": "python",
   "name": "python3"
  },
  "language_info": {
   "codemirror_mode": {
    "name": "ipython",
    "version": 3
   },
   "file_extension": ".py",
   "mimetype": "text/x-python",
   "name": "python",
   "nbconvert_exporter": "python",
   "pygments_lexer": "ipython3",
   "version": "3.7.1"
  },
  "nteract": {
   "version": "0.9.1"
  },
  "varInspector": {
   "cols": {
    "lenName": 16,
    "lenType": 16,
    "lenVar": 40
   },
   "kernels_config": {
    "python": {
     "delete_cmd_postfix": "",
     "delete_cmd_prefix": "del ",
     "library": "var_list.py",
     "varRefreshCmd": "print(var_dic_list())"
    },
    "r": {
     "delete_cmd_postfix": ") ",
     "delete_cmd_prefix": "rm(",
     "library": "var_list.r",
     "varRefreshCmd": "cat(var_dic_list()) "
    }
   },
   "types_to_exclude": [
    "module",
    "function",
    "builtin_function_or_method",
    "instance",
    "_Feature"
   ],
   "window_display": false
  }
 },
 "nbformat": 4,
 "nbformat_minor": 2
}
